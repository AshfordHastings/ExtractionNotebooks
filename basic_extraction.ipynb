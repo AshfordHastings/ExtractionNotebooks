{
 "cells": [
  {
   "cell_type": "markdown",
   "metadata": {},
   "source": [
    "## Basic Extraction"
   ]
  },
  {
   "cell_type": "markdown",
   "metadata": {},
   "source": [
    "### Basic Extraction from Retriever"
   ]
  },
  {
   "cell_type": "code",
   "execution_count": 12,
   "metadata": {},
   "outputs": [],
   "source": [
    "from langchain.text_splitter import RecursiveCharacterTextSplitter\n",
    "from langchain_community.vectorstores.docarray import DocArrayInMemorySearch\n",
    "from langchain_openai.embeddings import OpenAIEmbeddings\n",
    "from langchain.document_loaders.web_base import WebBaseLoader"
   ]
  },
  {
   "cell_type": "code",
   "execution_count": 13,
   "metadata": {},
   "outputs": [],
   "source": [
    "URL = \"https://en.wikipedia.org/wiki/Charles_Biddle\"\n",
    "loader = WebBaseLoader(URL)\n",
    "documents = loader.load()"
   ]
  },
  {
   "cell_type": "code",
   "execution_count": 14,
   "metadata": {},
   "outputs": [
    {
     "name": "stdout",
     "output_type": "stream",
     "text": [
      "1\n"
     ]
    },
    {
     "data": {
      "text/plain": [
       "[Document(page_content='\\n\\n\\n\\nCharles Biddle - Wikipedia\\n\\n\\n\\n\\n\\n\\n\\n\\n\\n\\n\\n\\n\\n\\n\\n\\n\\n\\n\\n\\n\\n\\n\\n\\n\\n\\n\\n\\n\\n\\n\\n\\n\\n\\n\\n\\nJump to content\\n\\n\\n\\n\\n\\n\\n\\nMain menu\\n\\n\\n\\n\\n\\nMain menu\\nmove to sidebar\\nhide\\n\\n\\n\\n\\t\\tNavigation\\n\\t\\n\\n\\nMain pageContentsCurrent eventsRandom articleAbout WikipediaContact usDonate\\n\\n\\n\\n\\n\\n\\t\\tContribute\\n\\t\\n\\n\\nHelpLearn to editCommunity portalRecent changesUpload file\\n\\n\\n\\n\\n\\nLanguages\\n\\nLanguage links are at the top of the page.\\n\\n\\n\\n\\n\\n\\n\\n\\n\\n\\n\\n\\n\\n\\n\\n\\n\\n\\n\\nSearch\\n\\n\\n\\n\\n\\n\\n\\n\\n\\n\\n\\nSearch\\n\\n\\n\\n\\n\\n\\n\\n\\n\\n\\n\\n\\n\\n\\n\\n\\n\\n\\n\\n\\n\\n\\n\\n\\n\\n\\n\\n\\n\\nCreate account\\n\\nLog in\\n\\n\\n\\n\\n\\n\\n\\n\\nPersonal tools\\n\\n\\n\\n\\n\\n Create account Log in\\n\\n\\n\\n\\n\\n\\t\\tPages for logged out editors learn more\\n\\n\\n\\nContributionsTalk\\n\\n\\n\\n\\n\\n\\n\\n\\n\\n\\n\\n\\n\\n\\n\\n\\n\\n\\n\\n\\n\\n\\n\\n\\n\\n\\n\\n\\nContents\\nmove to sidebar\\nhide\\n\\n\\n\\n\\n(Top)\\n\\n\\n\\n\\n\\n1Early life\\n\\n\\n\\n\\n\\n\\n\\n2Career\\n\\n\\n\\nToggle Career subsection\\n\\n\\n\\n\\n\\n2.1American Revolutionary War\\n\\n\\n\\n\\n\\n\\n\\n2.2Political career\\n\\n\\n\\n\\n\\n\\n\\n\\n\\n3Personal life\\n\\n\\n\\n\\n\\n\\n\\n4See also\\n\\n\\n\\n\\n\\n\\n\\n5References\\n\\n\\n\\n\\n\\n\\n\\n6External links\\n\\n\\n\\n\\n\\n\\n\\n\\n\\n\\n\\n\\n\\n\\n\\n\\n\\nToggle the table of contents\\n\\n\\n\\n\\n\\n\\n\\nCharles Biddle\\n\\n\\n\\n2 languages\\n\\n\\n\\n\\nالعربيةمصرى\\n\\nEdit links\\n\\n\\n\\n\\n\\n\\n\\n\\n\\n\\n\\nArticleTalk\\n\\n\\n\\n\\n\\nEnglish\\n\\n\\n\\n\\n\\n\\n\\n\\n\\n\\n\\n\\n\\n\\n\\n\\n\\nReadEditView history\\n\\n\\n\\n\\n\\n\\n\\nTools\\n\\n\\n\\n\\n\\nTools\\nmove to sidebar\\nhide\\n\\n\\n\\n\\t\\tActions\\n\\t\\n\\n\\nReadEditView history\\n\\n\\n\\n\\n\\n\\t\\tGeneral\\n\\t\\n\\n\\nWhat links hereRelated changesUpload fileSpecial pagesPermanent linkPage informationCite this pageGet shortened URLWikidata item\\n\\n\\n\\n\\n\\n\\t\\tPrint/export\\n\\t\\n\\n\\nDownload as PDFPrintable version\\n\\n\\n\\n\\n\\n\\t\\tIn other projects\\n\\t\\n\\n\\nWikisource\\n\\n\\n\\n\\n\\n\\n\\n\\n\\n\\n\\n\\n\\n\\n\\n\\n\\n\\n\\n\\n\\n\\n\\n\\n\\nFrom Wikipedia, the free encyclopedia\\n\\n\\nAmerican politician\\nFor other people named Charles Biddle, see Charles Biddle (disambiguation).\\nCharles Biddle7th Vice-President of PennsylvaniaIn office10 October 1785\\xa0– 31 October 1787PresidentJohn DickinsonBenjamin FranklinPreceded byJames IrvineSucceeded byPeter Muhlenberg\\nPersonal detailsBornDecember 24, 1745Philadelphia, Province of Pennsylvania, British AmericaDiedApril 4, 1821(1821-04-04) (aged\\xa075)Philadelphia, Pennsylvania, U.S.Spouse\\nHannah Shepard\\n\\u200b \\u200b(m.\\xa01778\\u2060–\\u20601821)\\u200bChildren10, including James, Nicholas, Thomas, John, RichardParent(s)William Biddle IIIMary Scull BiddleRelativesSee Biddle family\\nCharles Biddle (December 24, 1745 – April 4, 1821) was a Pennsylvania statesman and a member of the prominent Biddle family of Philadelphia.\\n\\n\\nEarly life[edit]\\nBiddle was born to a wealthy old Quaker family on December 24, 1745, in Philadelphia, Province of Pennsylvania in what was then British America. He was the son of William Biddle, 3rd (1698–1756) and Mary (née Scull) Biddle (1709–1789). His siblings included: Lydia Biddle, who married William Macfunn; John ”Jacky” Biddle, who married Sophia Boone; Edward Biddle, a lawyer, soldier, delegate to the Continental Congress,[1] who married Elizabeth Ross, sister of George Ross; Charles Biddle, and Nicholas Biddle, Revolutionary War Navy captain.[2]\\nAs a youth, Biddle was a schoolmate and close friend of Mathias Aspden and Founding Father Benjamin Rush.[3]\\n\\nCareer[edit]\\nAmerican Revolutionary War[edit]\\nDuring the American Revolutionary War, Biddle was a captain in the merchant service and participated in the work around of the British fleet\\'s blockade of American ports.  He volunteered in the Quaker Light Infantry and, in 1778, he served under his brother, Commodore Nicholas Biddle, aboard the USS Randolph.[4]\\n\\nPolitical career[edit]\\nBiddle served as Vice President of Pennsylvania, also known as Lieutenant Governor of Pennsylvania, from October 10, 1785, until October 31, 1787.[5]  He served under John Dickinson and Benjamin Franklin and hosted George Washington.[6]\\nDuring his term, he was an ex officio trustee of the University of the State of Pennsylvania (now the University of Pennsylvania). He was a member of the Pennsylvania Senate from 1810 to 1814.[7] He also was an associate of Aaron Burr, having introduced Burr to his wife Theodosia shortly after the death of her first husband, Jacques Marcus Prevost.[8]\\nAlthough Biddle vacated his seat at Council on October 13, 1787, the Commonwealth of Pennsylvania records that his Vice-Presidential term extended to October 31, the date of the next Presidential and Vice-Presidential elections. Biddle was elected Secretary of the Council on October 23.\\n\\nPersonal life[edit]\\nFurther information: Biddle family\\nAn 1818 portrait of John Biddle, Biddle\\'s son, by Thomas Sully\\nOn November 24, 1778, he was married to Hannah Shepard (d. 1825), the daughter of merchant Jacob Shepard and Sara (née Lewis) Shepard, in Beaufort, North Carolina.[9]  The Biddle family had a summer home outside of Philadelphia that was furnished sumptuously with English furniture and paintings.[8] Together, they were the parents of ten children, including:[10][11]\\n\\nMary Biddle (d. 1854), who married John Gideon Biddle (1793–1826), the fourth son of Clement Biddle, in 1820.[12]\\nNicholas Biddle (b. 1779), who died in infancy.[10]\\nWilliam Shephard Biddle (1781–1835), who married Circe Deroneray. After her death, he married Elizabeth Bordeon Hopkinson, daughter of Joseph Hopkinson.[10]\\nJames Biddle (1783–1848), a commodore with the U.S. Navy who died unmarried.[10]\\nEdward Biddle (1784–1800), a midshipman with the U.S. Navy who died at sea.[10]\\nNicholas Biddle (1786–1844), president of the Second Bank of the United States who married Jane Craig.[10]\\nCharles Biddle Jr. (1787–1836), who married Anna H. Stokes in 1808.[10][4]\\nAnn Biddle (1788-1789)[13]\\nThomas Biddle (1790–1831), a War of 1812 hero who died after a duel with a Missouri Congressman over a perceived insult to his brother Nicholas. He married M. Ann Mulllanphy.[10]\\nJohn Biddle (1792–1859), Michigan politician who married Eliza Falconer Bradish.[10]\\nRichard Biddle (1796–1847), a U.S. Representative who married Ann Anderson.[10]\\nAnn Biddle (1800-1863), who married Francis Hopkinson (1796-1870) in 1829.[13]\\nBiddle died on April 4, 1821, in Philadelphia, Pennsylvania.  His widow died almost four years later on January 4, 1825.[14]\\n\\nSee also[edit]\\nBiddle family\\nReferences[edit]\\n\\n\\n^ \"BIDDLE, Edward - Biographical Information\". bioguide.congress.gov. Biographical Directory of the United States Congress. Retrieved 2016-04-09.\\n\\n^ Biddle, Charles; Biddle, James S. (1883). Autobiography of Charles Biddle, vice-president of the Supreme Executive Council of Pennsylvania. 1745-1821. Philadelphia: E. Claxton and Company. Retrieved 4 June 2018.\\n\\n^ Rush, Benjamin (1981). Benjamin Rush\\'s Lectures on the Mind. American Philosophical Society. p.\\xa0129. ISBN\\xa09780871691446. Retrieved 4 June 2018.\\n\\n^ a b Daughters of the American Revolution (1904). Lineage Book - National Society of the Daughters of the American Revolution. Daughters of the American Revolution. p.\\xa0101. Retrieved 4 June 2018.\\n\\n^ \"Charles Biddle (1745-1821)\". www.archives.upenn.edu. University of Pennsylvania University Archives. Retrieved 4 June 2018.\\n\\n^ Stewart, David O. (2007). The Summer of 1787: The Men Who Invented the Constitution. Simon and Schuster. p.\\xa0231. ISBN\\xa09781416554042. Retrieved 4 June 2018.\\n\\n^ Cox, Harold. \"Senate Members C\". Wilkes University Election Statistics Project. Wilkes University.\\n\\n^ a b Abraham, David (2013). Aaron Burr - Adventurer. AuthorHouse. p.\\xa07. ISBN\\xa09781481713146. Retrieved 4 June 2018.\\n\\n^ Powell, William S. (2000). Dictionary of North Carolina Biography: Vol. 5, P-S. Univ of North Carolina Press. p.\\xa0328. ISBN\\xa09780807867006. Retrieved 4 June 2018.\\n\\n^ a b c d e f g h i j Jordan, John W. (2004). Colonial And Revolutionary Families Of Pennsylvania. Genealogical Publishing Com. pp.\\xa0167–168. ISBN\\xa09780806352398. Retrieved 4 June 2018.\\n\\n^ Davis, William Watts Hart (1975). A Genealogical and Personal History of Bucks County, Pennsylvania. Genealogical Publishing Com. p.\\xa0159. ISBN\\xa09780806306414. Retrieved 4 June 2018.\\n\\n^ Glenn, Thomas Allen (1970). Merion in the Welsh Tract: With Sketches of the Townships of Haverford and Radnor. Historical and Genealogical Collections Concerning the Welsh Barony in the Province of Pennsylvania, Settled by the Cymric Quakers in 1682. Genealogical Publishing Com. p.\\xa0145. ISBN\\xa09780806304298. Retrieved 4 June 2018.\\n\\n^ a b Gay, Paul The Biddle Family A Genealogy of the Descendants of William III and John Biddle of Phila., Pa. Entries No. 19, 51, 55; Rutland, Vermont: Tuttle Antiquarean Books, Inc. 1934.\\n\\n^ Biddle, Henry Drinker (1895). Notes on the Genealogy of the Biddle Family: Together with Abstracts of Some Early Deeds. W.S. Fortescue & Company. p.\\xa08. ISBN\\xa09780598508799. Retrieved 4 June 2018.\\n\\n\\nExternal links[edit]\\nBiography at the University of Pennsylvania\\nFuller Collection of Aaron Burr (1756-1836), 1771-1851 (bulk 1778-1834): Finding Aid\\nMemoirs of Aaron Burr, Complete by Matthew L. Davis, Part 14 out of 17\\nCharles Biddle at Find a Grave\\n\\n\\nPolitical offices\\n\\n\\nPreceded\\xa0bySebastian Levan\\n\\n Member, Supreme Executive Council of Pennsylvania, representing Berks County 30 October 1784 – 13 October 1787\\n\\nSucceeded\\xa0byJames Read\\n\\n\\nPreceded\\xa0byJames Irvine\\n\\n Vice-President of Pennsylvania 10 October 1785 – 31 October 1787\\n\\nSucceeded\\xa0byPeter Muhlenberg\\n\\n\\nvteLieutenant governors and vice-presidents of PennsylvaniaVice-presidents(1777–1790)\\nBryan\\nM. Smith\\nMoore\\nPotter\\nEwing\\nIrvine\\nBiddle\\nMuhlenberg\\nRedick\\nRoss\\nLieutenant governors(since 1875)\\nLatta\\nStone\\nBlack\\nDavies\\nWatres\\nLyon\\nGobin\\nBrown\\nMurphy\\nReynolds\\nMcClain\\nBeidleman\\nD. Davis\\nJames\\nShannon\\nKennedy\\nLewis\\nBell\\nStrickler\\nWood\\nFurman\\nJ. Davis\\nShafer\\nBroderick\\nKline\\nScranton\\nSingel\\nSchweiker\\nJubelirer\\nKnoll\\nScarnati\\nCawley\\nStack\\nFetterman\\nWard (acting)\\nA. Davis\\n\\nAuthority control databases International\\nFAST\\nVIAF\\nNational\\nUnited States\\nOther\\nSNAC\\n\\n\\n\\n\\n\\nRetrieved from \"https://en.wikipedia.org/w/index.php?title=Charles_Biddle&oldid=1166651039\"\\nCategories: Biddle family1745 births1821 deathsPennsylvania state senatorsAmerican people of English descentHidden categories: Articles with short descriptionShort description matches WikidataArticles with FAST identifiersArticles with VIAF identifiersArticles with LCCN identifiersArticles with SNAC-ID identifiers\\n\\n\\n\\n\\n\\n\\n This page was last edited on 22 July 2023, at 22:50\\xa0(UTC).\\nText is available under the Creative Commons Attribution-ShareAlike License 4.0;\\nadditional terms may apply.  By using this site, you agree to the Terms of Use and Privacy Policy. Wikipedia® is a registered trademark of the Wikimedia Foundation, Inc., a non-profit organization.\\n\\n\\nPrivacy policy\\nAbout Wikipedia\\nDisclaimers\\nContact Wikipedia\\nCode of Conduct\\nDevelopers\\nStatistics\\nCookie statement\\nMobile view\\n\\n\\n\\n\\n\\n\\n\\n\\n\\n\\n\\n\\n\\nToggle limited content width\\n\\n\\n\\n\\n\\n\\n\\n', metadata={'source': 'https://en.wikipedia.org/wiki/Charles_Biddle', 'title': 'Charles Biddle - Wikipedia', 'language': 'en'})]"
      ]
     },
     "execution_count": 14,
     "metadata": {},
     "output_type": "execute_result"
    }
   ],
   "source": [
    "text_splitter = RecursiveCharacterTextSplitter(chunk_overlap=0)\n",
    "embeddings = OpenAIEmbeddings()\n",
    "print(len(documents))\n",
    "\n",
    "db = DocArrayInMemorySearch.from_documents(documents=documents, embedding=embeddings)\n",
    "retriever = db.as_retriever()\n",
    "\n",
    "retriever.get_relevant_documents(\"first name\")\n"
   ]
  },
  {
   "cell_type": "code",
   "execution_count": 15,
   "metadata": {},
   "outputs": [],
   "source": [
    "basic_info_function = {\n",
    "    'name': 'Basic_Information',\n",
    "    'description': 'Basic information to extract about the person subject of a text.',\n",
    "    'parameters': {\n",
    "        'title': 'Basic Information',\n",
    "        'description': 'Basic information to extract about the person subject of a text.',\n",
    "        'type': 'object',\n",
    "        'properties': {\n",
    "            'basic_info': {\n",
    "                'title': 'Basic Info',\n",
    "                'description': 'Basic info about the person subject.',\n",
    "                'type': 'object',\n",
    "                'properties': {\n",
    "                    'first_name': {\n",
    "                        'title': 'First Name',\n",
    "                        'description': 'persons first name',\n",
    "                        'type': 'string'\n",
    "                    },\n",
    "                    'last_name': {\n",
    "                        'title': 'Last Name',\n",
    "                        'description': 'persons last name',\n",
    "                        'type': 'string'\n",
    "                    },\n",
    "                    'birth_year': {\n",
    "                        'title': 'Birth Year',\n",
    "                        'description': 'persons birth year',\n",
    "                        'type': 'string'\n",
    "                    },\n",
    "                    'death_year': {\n",
    "                        'title': 'Death Year',\n",
    "                        'description': 'persons death year',\n",
    "                        'type': 'string'\n",
    "                    }\n",
    "                },\n",
    "                'required': ['first_name', 'last_name']\n",
    "            },\n",
    "        },\n",
    "        'required': ['basic_info']\n",
    "    }\n",
    "}\n",
    "\n",
    "extraction_functions = [basic_info_function]"
   ]
  },
  {
   "cell_type": "code",
   "execution_count": 16,
   "metadata": {},
   "outputs": [],
   "source": [
    "from langchain.output_parsers.openai_functions import JsonKeyOutputFunctionsParser, JsonOutputFunctionsParser\n",
    "from langchain_core.prompts.chat import ChatPromptTemplate\n",
    "from langchain_core.runnables import RunnableMap\n",
    "from langchain_openai.chat_models import ChatOpenAI"
   ]
  },
  {
   "cell_type": "code",
   "execution_count": 17,
   "metadata": {},
   "outputs": [],
   "source": [
    "template = \"\"\"A article will be passed to you. Extract from it the basic information from the article about the person who is the subject. \n",
    "\n",
    "Do not make up or guess ANY extra information. Only extract what exactly is in the text.\"\"\"\n",
    "\n",
    "prompt = ChatPromptTemplate.from_messages([\n",
    "    (\"system\", template),\n",
    "    (\"human\", \"{input}\")\n",
    "])\n",
    "\n",
    "\n",
    "basic_info_model = ChatOpenAI(temperature=0.0).bind(functions=extraction_functions)\n",
    "\n",
    "\n",
    "extraction_chain = (\n",
    "    RunnableMap({\n",
    "        \"input\": lambda x: retriever.get_relevant_documents(query=x[\"question\"])\n",
    "    }) \n",
    "    | prompt \n",
    "    | basic_info_model \n",
    "    | JsonOutputFunctionsParser()\n",
    ")\n",
    "\n"
   ]
  },
  {
   "cell_type": "code",
   "execution_count": 18,
   "metadata": {},
   "outputs": [
    {
     "data": {
      "text/plain": [
       "{'basic_info': {'first_name': 'Charles',\n",
       "  'last_name': 'Biddle',\n",
       "  'birth_year': '1745',\n",
       "  'death_year': '1821'}}"
      ]
     },
     "execution_count": 18,
     "metadata": {},
     "output_type": "execute_result"
    }
   ],
   "source": [
    "extraction_chain.invoke({\"question\": \"Charles Biddle\"})"
   ]
  },
  {
   "cell_type": "markdown",
   "metadata": {},
   "source": [
    "### Let's Pass a URL and Schema..."
   ]
  },
  {
   "cell_type": "code",
   "execution_count": 19,
   "metadata": {},
   "outputs": [],
   "source": [
    "from langchain.text_splitter import CharacterTextSplitter"
   ]
  },
  {
   "cell_type": "code",
   "execution_count": 20,
   "metadata": {},
   "outputs": [],
   "source": [
    "# Wikipedia Person Pages\n",
    "PREVOST_URL = \"https://en.wikipedia.org/wiki/Jacques_Marcus_Prevost\"\n",
    "BOUQUET_URL = \"https://en.wikipedia.org/wiki/Henry_Bouquet\"\n",
    "DICKINSON_URL = \"https://en.wikipedia.org/wiki/John_Dickinson\"\n",
    "\n",
    "# Variable schema to be passed to extraction chain \n",
    "BASIC_INFO_SCHEMA = {\n",
    "    'properties': {\n",
    "        'first_name': {\n",
    "            'title': 'First Name',\n",
    "            'description': 'persons first name',\n",
    "            'type': 'string'\n",
    "        },\n",
    "        'last_name': {\n",
    "            'title': 'Last Name',\n",
    "            'description': 'persons last name',\n",
    "            'type': 'string'\n",
    "        },\n",
    "        'birth_year': {\n",
    "            'title': 'Birth Year',\n",
    "            'description': 'persons birth year',\n",
    "            'type': 'string'\n",
    "        },\n",
    "        'death_year': {\n",
    "            'title': 'Death Year',\n",
    "            'description': 'persons death year',\n",
    "            'type': 'string'\n",
    "        }\n",
    "    },\n",
    "    'required': ['first_name', 'last_name']\n",
    "}"
   ]
  },
  {
   "cell_type": "code",
   "execution_count": 21,
   "metadata": {},
   "outputs": [],
   "source": [
    "embeddings = OpenAIEmbeddings()\n",
    "\n",
    "def get_embeddings_for_query(x):\n",
    "    WIKI_URL = x['url']\n",
    "    schema = x['schema']\n",
    "\n",
    "    splitter = CharacterTextSplitter(chunk_size=1000, chunk_overlap=10)\n",
    "    raw_docs = WebBaseLoader(WIKI_URL).load()\n",
    "    split_docs = splitter.split_documents(raw_docs)\n",
    "\n",
    "    db = DocArrayInMemorySearch.from_documents(documents=split_docs, embedding=embeddings).as_retriever() # Do I need this abstraction..\n",
    "\n",
    "    # docs = {} Was going to use dict for tracking duplicates... \n",
    "    rel_doc_list = []\n",
    "    for i, key in enumerate(schema['properties'].keys()):\n",
    "        docs = db.get_relevant_documents(query=key)\n",
    "        #print(f\"\\nKey: {key}\\nDoc:{docs[0]}\")\n",
    "        rel_doc_list.append(docs[0].page_content)\n",
    "    return {\"input\": rel_doc_list}"
   ]
  },
  {
   "cell_type": "code",
   "execution_count": 22,
   "metadata": {},
   "outputs": [
    {
     "name": "stderr",
     "output_type": "stream",
     "text": [
      "Created a chunk of size 1509, which is longer than the specified 1000\n",
      "Created a chunk of size 1265, which is longer than the specified 1000\n"
     ]
    },
    {
     "data": {
      "text/plain": [
       "{'input': ['This page was last edited on 9 March 2023, at 10:55\\xa0(UTC).\\nText is available under the Creative Commons Attribution-ShareAlike License 4.0;\\nadditional terms may apply.  By using this site, you agree to the Terms of Use and Privacy Policy. Wikipedia® is a registered trademark of the Wikimedia Foundation, Inc., a non-profit organization.\\n\\n\\nPrivacy policy\\nAbout Wikipedia\\nDisclaimers\\nContact Wikipedia\\nCode of Conduct\\nDevelopers\\nStatistics\\nCookie statement\\nMobile view\\n\\nToggle limited content width',\n",
       "  \"Marriage and family[edit]\\nWhile in New York City convalescing, Jacques Marc had met Theodosia Stillwell Bartow. They married in Trinity Church in 1763. They had five children together, including Augustine James Frederick Prevost (1765–1842) and John Bartow Prevost (1766–1825).\\nWhile Jacques was away fighting for the British in the West Indies, his wife Theodosia formed a relationship with an American colonel named Aaron Burr, who was ten years younger than her. In 1781, soon after learning of her husband's death, the newly widowed Theodosia got remarried to the young Burr, who adopted the Prevost family's five children. Burr and Theodosia had another five children together, but only their daughter Theodosia Burr Alston survived to adulthood, and was later lost at sea.\",\n",
       "  'Download as PDFPrintable version\\n\\nFrom Wikipedia, the free encyclopedia\\n\\n\\nBritish Army officer (1736–1781)',\n",
       "  'Download as PDFPrintable version\\n\\nFrom Wikipedia, the free encyclopedia\\n\\n\\nBritish Army officer (1736–1781)']}"
      ]
     },
     "execution_count": 22,
     "metadata": {},
     "output_type": "execute_result"
    }
   ],
   "source": [
    "get_embeddings_for_query({\"url\": PREVOST_URL, \"schema\": {\"properties\": {\"first_name\": \"\", \"last_name\": \"\", \"year_of_birth\":\"\", \"year of death\": \"\"}}})"
   ]
  },
  {
   "cell_type": "code",
   "execution_count": 23,
   "metadata": {},
   "outputs": [],
   "source": [
    "def get_extraction_function(entity_schema: dict) -> dict:\n",
    "    return {\n",
    "        \"name\": \"basic_info\",\n",
    "        \"description\": \"Basic information to extract about the person subject of a text.\",\n",
    "        \"parameters\": {\n",
    "            \"type\": \"object\",\n",
    "            \"properties\": {\n",
    "                \"info\": {\"type\": \"array\", \"items\": _convert_schema(entity_schema)}\n",
    "            },\n",
    "            \"required\": [\"info\"],\n",
    "        },\n",
    "    }\n",
    "\n",
    "def _convert_schema(schema: dict) -> dict:\n",
    "    props = {k: {\"title\": k, **v} for k, v in schema[\"properties\"].items()}\n",
    "    return {\n",
    "        \"type\": \"object\",\n",
    "        \"properties\": props,\n",
    "        \"required\": schema.get(\"required\", []),\n",
    "    }\n",
    "\n",
    "def get_llm_kwargs(function: dict) -> dict:\n",
    "    \"\"\"Returns the kwargs for the LLMChain constructor.\n",
    "\n",
    "    Args:\n",
    "        function: The function to use.\n",
    "\n",
    "    Returns:\n",
    "        The kwargs for the LLMChain constructor.\n",
    "    \"\"\"\n",
    "    return {\"functions\": [function], \"function_call\": {\"name\": function[\"name\"]}}"
   ]
  },
  {
   "cell_type": "code",
   "execution_count": 24,
   "metadata": {},
   "outputs": [],
   "source": [
    "def invoke_model_with_schema(x):\n",
    "    model = ChatOpenAI(temperature=0.0)\n",
    "    schema = x[\"schema\"]\n",
    "    function_def = get_extraction_function(schema)\n",
    "    res = model.invoke(x['input'].messages, **get_llm_kwargs(function_def))\n",
    "    \n",
    "    return res"
   ]
  },
  {
   "cell_type": "code",
   "execution_count": 25,
   "metadata": {},
   "outputs": [],
   "source": [
    "# Best way I know how for now... - rough draft\n",
    "\n",
    "from operator import itemgetter\n",
    "from langchain_core.runnables import RunnableLambda\n",
    "\n",
    "person_extraction_chain = (\n",
    "    {\n",
    "        \"input\": get_embeddings_for_query | prompt,\n",
    "        \"schema\": itemgetter(\"schema\")\n",
    "    }\n",
    "    | RunnableLambda(invoke_model_with_schema) \n",
    "    | JsonOutputFunctionsParser()\n",
    ")"
   ]
  },
  {
   "cell_type": "code",
   "execution_count": 26,
   "metadata": {},
   "outputs": [
    {
     "name": "stderr",
     "output_type": "stream",
     "text": [
      "Created a chunk of size 1509, which is longer than the specified 1000\n",
      "Created a chunk of size 1265, which is longer than the specified 1000\n"
     ]
    },
    {
     "data": {
      "text/plain": [
       "{'info': [{'first_name': 'Jacques',\n",
       "   'last_name': 'Prevost',\n",
       "   'birth_year': '1736',\n",
       "   'death_year': ''}]}"
      ]
     },
     "execution_count": 26,
     "metadata": {},
     "output_type": "execute_result"
    }
   ],
   "source": [
    "person_extraction_chain.invoke({\"url\": PREVOST_URL, \"schema\": BASIC_INFO_SCHEMA})"
   ]
  },
  {
   "cell_type": "code",
   "execution_count": 27,
   "metadata": {},
   "outputs": [
    {
     "name": "stderr",
     "output_type": "stream",
     "text": [
      "Created a chunk of size 3149, which is longer than the specified 1000\n",
      "Created a chunk of size 3049, which is longer than the specified 1000\n",
      "Created a chunk of size 4015, which is longer than the specified 1000\n",
      "Created a chunk of size 2917, which is longer than the specified 1000\n",
      "Created a chunk of size 1607, which is longer than the specified 1000\n",
      "Created a chunk of size 2538, which is longer than the specified 1000\n",
      "Created a chunk of size 2927, which is longer than the specified 1000\n",
      "Created a chunk of size 2358, which is longer than the specified 1000\n",
      "Created a chunk of size 1984, which is longer than the specified 1000\n",
      "Created a chunk of size 4204, which is longer than the specified 1000\n",
      "Created a chunk of size 2346, which is longer than the specified 1000\n",
      "Created a chunk of size 1441, which is longer than the specified 1000\n",
      "Created a chunk of size 7517, which is longer than the specified 1000\n",
      "Created a chunk of size 2004, which is longer than the specified 1000\n"
     ]
    },
    {
     "data": {
      "text/plain": [
       "{'info': [{'first_name': 'John',\n",
       "   'last_name': 'Dickinson',\n",
       "   'birth_year': '1732',\n",
       "   'death_year': '1808'}]}"
      ]
     },
     "execution_count": 27,
     "metadata": {},
     "output_type": "execute_result"
    }
   ],
   "source": [
    "person_extraction_chain.invoke({\"url\": DICKINSON_URL, \"schema\": BASIC_INFO_SCHEMA})"
   ]
  },
  {
   "cell_type": "code",
   "execution_count": 30,
   "metadata": {},
   "outputs": [
    {
     "name": "stderr",
     "output_type": "stream",
     "text": [
      "Created a chunk of size 3149, which is longer than the specified 1000\n",
      "Created a chunk of size 3049, which is longer than the specified 1000\n",
      "Created a chunk of size 4015, which is longer than the specified 1000\n",
      "Created a chunk of size 2917, which is longer than the specified 1000\n",
      "Created a chunk of size 1607, which is longer than the specified 1000\n",
      "Created a chunk of size 2538, which is longer than the specified 1000\n",
      "Created a chunk of size 2927, which is longer than the specified 1000\n",
      "Created a chunk of size 2358, which is longer than the specified 1000\n",
      "Created a chunk of size 1984, which is longer than the specified 1000\n",
      "Created a chunk of size 4204, which is longer than the specified 1000\n",
      "Created a chunk of size 2346, which is longer than the specified 1000\n",
      "Created a chunk of size 1441, which is longer than the specified 1000\n",
      "Created a chunk of size 7517, which is longer than the specified 1000\n",
      "Created a chunk of size 2004, which is longer than the specified 1000\n"
     ]
    },
    {
     "data": {
      "text/plain": [
       "{'info': [{'first_name': 'John',\n",
       "   'last_name': 'Dickinson',\n",
       "   'children': [{'first_name': 'William', 'last_name': 'Dickinson'},\n",
       "    {'first_name': 'Walter', 'last_name': 'Dickinson'},\n",
       "    {'first_name': 'Samuel', 'last_name': 'Dickinson'},\n",
       "    {'first_name': 'Elizabeth', 'last_name': 'Dickinson'},\n",
       "    {'first_name': 'Henry', 'last_name': 'Dickinson'},\n",
       "    {'first_name': 'Elizabeth', 'last_name': 'Dickinson'},\n",
       "    {'first_name': 'Rebecca', 'last_name': 'Dickinson'},\n",
       "    {'first_name': 'Rachel', 'last_name': 'Dickinson'}],\n",
       "   'cause_of_death': 'unknown'}]}"
      ]
     },
     "execution_count": 30,
     "metadata": {},
     "output_type": "execute_result"
    }
   ],
   "source": [
    "# Create more complex schema\n",
    "\n",
    "MORE_COMPLEX_INFO_SCHEMA = {\n",
    "    'properties': {\n",
    "        'first_name': {\n",
    "            'title': 'First Name',\n",
    "            'description': 'persons first name',\n",
    "            'type': 'string'\n",
    "        },\n",
    "        'last_name': {\n",
    "            'title': 'Last Name',\n",
    "            'description': 'persons last name',\n",
    "            'type': 'string'\n",
    "        },\n",
    "        'children': {\n",
    "            'title': 'Children',\n",
    "            'description': 'persons children',\n",
    "            'type': 'array',\n",
    "            'items': {\n",
    "                'type': 'object',\n",
    "                'title': 'Child',\n",
    "                'description': 'Child of person',\n",
    "                'properties': {\n",
    "                    'first_name': {\n",
    "                        'title': 'First Name',\n",
    "                        'description': 'childs first name',\n",
    "                        'type': 'string'\n",
    "                    },\n",
    "                    'last_name': {\n",
    "                        'title': 'Last Name',\n",
    "                        'description': 'childs last name',\n",
    "                        'type': 'string'\n",
    "                    }\n",
    "                },\n",
    "                'required': ['first_name', 'last_name']\n",
    "            }\n",
    "        },\n",
    "        'cause_of_death': {\n",
    "            'title': 'Cause of Death',\n",
    "            'description': 'persons cause of death',\n",
    "            'type': 'string'\n",
    "        },\n",
    "        'views_on_war': {\n",
    "            'title': 'Views on War',\n",
    "            'description': 'persons views on war',\n",
    "            'type': 'object',\n",
    "            'items': {\n",
    "                'type': 'object',\n",
    "                'title': 'View on War',\n",
    "                'description': 'View on War',\n",
    "                'properties': {\n",
    "                    'war': {\n",
    "                        'title': 'War',\n",
    "                        'description': 'war',\n",
    "                        'type': 'string'\n",
    "                    },\n",
    "                    'view': {\n",
    "                        'title': 'View',\n",
    "                        'description': 'view on war',\n",
    "                        'type': 'string'\n",
    "                    }\n",
    "                },\n",
    "                'required': ['war', 'view']\n",
    "            }\n",
    "        },\n",
    "    },\n",
    "    'required': ['first_name', 'last_name', 'views_on_war']\n",
    "}\n",
    "\n",
    "person_extraction_chain.invoke({\"url\": DICKINSON_URL, \"schema\": MORE_COMPLEX_INFO_SCHEMA})"
   ]
  },
  {
   "cell_type": "markdown",
   "metadata": {},
   "source": [
    "Implementation is a start. Next is developing better retrieval strategies, testing models, sequential calls for the schema, token tracking, prompt engineering."
   ]
  },
  {
   "cell_type": "code",
   "execution_count": 33,
   "metadata": {},
   "outputs": [
    {
     "name": "stderr",
     "output_type": "stream",
     "text": [
      "Created a chunk of size 3149, which is longer than the specified 1000\n",
      "Created a chunk of size 3049, which is longer than the specified 1000\n",
      "Created a chunk of size 4015, which is longer than the specified 1000\n",
      "Created a chunk of size 2917, which is longer than the specified 1000\n",
      "Created a chunk of size 1607, which is longer than the specified 1000\n",
      "Created a chunk of size 2538, which is longer than the specified 1000\n",
      "Created a chunk of size 2927, which is longer than the specified 1000\n",
      "Created a chunk of size 2358, which is longer than the specified 1000\n",
      "Created a chunk of size 1984, which is longer than the specified 1000\n",
      "Created a chunk of size 4204, which is longer than the specified 1000\n",
      "Created a chunk of size 2346, which is longer than the specified 1000\n",
      "Created a chunk of size 1441, which is longer than the specified 1000\n",
      "Created a chunk of size 7517, which is longer than the specified 1000\n",
      "Created a chunk of size 2004, which is longer than the specified 1000\n"
     ]
    },
    {
     "data": {
      "text/plain": [
       "{'info': [{'source': 'Ehrlich, Eugene and Gorton Carruth. The Oxford Illustrated Literary Guide to the United States. New York: Oxford University Press, 1982. p. 217. ISBN 0-19-503186-5'},\n",
       "  {'source': \"Lincoln's Little War by Webb B. Garrison, pg. 60\"},\n",
       "  {'source': 'The Thirteen Colonies: Travel Historic America pg. 62'},\n",
       "  {'source': '\"Student finds letter \\'a link to Jefferson\\'\". CNN.com. December 8, 2009. Retrieved May 6, 2010.'},\n",
       "  {'source': '\"Odd Wisconsin Archives\". Wisconsinhistory.org. March 29, 2006. Archived from the original on April 23, 2006. Retrieved September 12, 2012.'},\n",
       "  {'source': 'Rabinowitz, Chloe. \"EXCEPT MR. DICKINSON World Premiere to be Presented by 15th Street Friends\". BroadwayWorld.com.'},\n",
       "  {'source': 'Colbourn, Trevor H. (1959). \"John Dickinson, Historical Revolutionary\". The Pennsylvania Magazine of History and Biography. 83 (3): 271–292. JSTOR 20089207.'},\n",
       "  {'source': 'Powell, John H. \"John Dickinson and the Constitution.\" The Pennsylvania Magazine of History and Biography 60, no. 1 (1936): 5.'}]}"
      ]
     },
     "execution_count": 33,
     "metadata": {},
     "output_type": "execute_result"
    }
   ],
   "source": [
    "SIMPLE_COMPLEX_INFO_SCHEMA = {\n",
    "    'properties': {\n",
    "        'views_on_war': {\n",
    "            'title': 'Views on War',\n",
    "            'description': 'persons views on war',\n",
    "            'type': 'object',\n",
    "            'items': {\n",
    "                'type': 'object',\n",
    "                'title': 'View on War',\n",
    "                'description': 'View on War',\n",
    "                'properties': {\n",
    "                    'war': {\n",
    "                        'title': 'War',\n",
    "                        'description': 'war',\n",
    "                        'type': 'string'\n",
    "                    },\n",
    "                    'view': {\n",
    "                        'title': 'View',\n",
    "                        'description': 'view on war',\n",
    "                        'type': 'string'\n",
    "                    }\n",
    "                },\n",
    "                'required': ['war', 'view']\n",
    "            }\n",
    "        },\n",
    "    },\n",
    "    'required': ['views_on_war']\n",
    "}\n",
    "\n",
    "person_extraction_chain.invoke({\"url\": DICKINSON_URL, \"schema\": SIMPLE_COMPLEX_INFO_SCHEMA})"
   ]
  }
 ],
 "metadata": {
  "kernelspec": {
   "display_name": ".venv",
   "language": "python",
   "name": "python3"
  },
  "language_info": {
   "codemirror_mode": {
    "name": "ipython",
    "version": 3
   },
   "file_extension": ".py",
   "mimetype": "text/x-python",
   "name": "python",
   "nbconvert_exporter": "python",
   "pygments_lexer": "ipython3",
   "version": "3.9.6"
  }
 },
 "nbformat": 4,
 "nbformat_minor": 2
}
